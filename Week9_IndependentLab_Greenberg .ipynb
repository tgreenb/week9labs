{
 "cells": [
  {
   "cell_type": "markdown",
   "id": "19f0a68e-3afc-4d7a-aada-1c33c803e779",
   "metadata": {},
   "source": [
    " # Week 9 Independent Lab: Inferential Statistics\n",
    " **Author:** Thomas J. Greenberg  \n",
    " **Course:** BGEN632 – Graduate Introduction to Python  \n",
    " **Term:** Spring 2025  \n",
    " **Date:** April 29, 2025\n",
    "\n",
    "---\n",
    "\n",
    "\n",
    "## Introduction\n",
    "In this independent lab, we apply inferential statistical techniques—specifically multiple linear regression—  \n",
    "to explore how various predictor variables relate to employees' intent to adopt a new system within their organization.  \n",
    "\n",
    "The dataset, located at `data.txt`, contains questionnaire responses assessing multiple dimensions of perception,  \n",
    "usefulness, and behavioral intention. Our objective is to model `intent1_01` (intention to adopt) as the dependent  \n",
    "variable, using five independent predictors selected from the remaining numeric fields. To avoid multicollinearity,  \n",
    "we explicitly exclude `intent1_02`, `intent1_03`, and `intent1_04`.  \n",
    "\n",
    "In addition to model construction, we conduct a thorough evaluation of key regression assumptions—including linearity,  \n",
    "multicollinearity, homoscedasticity, independence, and normality—to ensure statistical validity and reliability.  \n",
    " "
   ]
  },
  {
   "cell_type": "markdown",
   "id": "273a9474-4136-4aa6-9eec-44d7d7515c0f",
   "metadata": {},
   "source": [
    "##  Setup\n",
    " The following code block imports all necessary Python libraries. These include tools for data manipulation    \n",
    " (`pandas`, `numpy`), visualization (`matplotlib`, `seaborn`), statistical analysis (`scipy.stats`, `statsmodels`),    \n",
    " and diagnostics (e.g., variance inflation factors via `statsmodels` and cross-validation tools from `sklearn`).    \n",
    " \n"
   ]
  },
  {
   "cell_type": "code",
   "execution_count": 13,
   "id": "c24cb9bb-ed2c-46ef-b76f-36166442875f",
   "metadata": {},
   "outputs": [],
   "source": [
    "# Import necessary libraries\n",
    "import os\n",
    "import pandas as pd\n",
    "import numpy as np\n",
    "import matplotlib.pyplot as plt\n",
    "import seaborn as sns\n",
    "import scipy.stats as stats\n",
    "import statsmodels.api as sm\n",
    "import statsmodels.formula.api as smf\n",
    "from statsmodels.stats.outliers_influence import variance_inflation_factor\n",
    "from sklearn.model_selection import train_test_split\n"
   ]
  },
  {
   "cell_type": "markdown",
   "id": "7830f336-bd94-4b57-b15d-683babf99969",
   "metadata": {},
   "source": [
    "## Dataset\n",
    "\n",
    "We now load the dataset and verify its structure before proceeding to analysis. The file is tab-delimited  \n",
    "and contains Likert-scale survey responses measuring constructs such as ease of use, usefulness, and intention  \n",
    "to adopt a system.  \n",
    "\n"
   ]
  },
  {
   "cell_type": "code",
   "execution_count": 4,
   "id": "2e8c33a0-1adb-43d8-8656-336388dea73a",
   "metadata": {},
   "outputs": [
    {
     "name": "stdout",
     "output_type": "stream",
     "text": [
      "<class 'pandas.core.frame.DataFrame'>\n",
      "RangeIndex: 201 entries, 0 to 200\n",
      "Data columns (total 16 columns):\n",
      " #   Column        Non-Null Count  Dtype\n",
      "---  ------        --------------  -----\n",
      " 0   attitude1_01  201 non-null    int64\n",
      " 1   attitude1_02  201 non-null    int64\n",
      " 2   attitude1_03  201 non-null    int64\n",
      " 3   attitude1_04  201 non-null    int64\n",
      " 4   intent1_01    201 non-null    int64\n",
      " 5   intent1_02    201 non-null    int64\n",
      " 6   intent1_03    201 non-null    int64\n",
      " 7   intent1_04    201 non-null    int64\n",
      " 8   peruse01      201 non-null    int64\n",
      " 9   peruse02      201 non-null    int64\n",
      " 10  peruse03      201 non-null    int64\n",
      " 11  peruse04      201 non-null    int64\n",
      " 12  satis01       201 non-null    int64\n",
      " 13  satis02       201 non-null    int64\n",
      " 14  satis03       201 non-null    int64\n",
      " 15  satis04       201 non-null    int64\n",
      "dtypes: int64(16)\n",
      "memory usage: 25.3 KB\n"
     ]
    },
    {
     "data": {
      "text/html": [
       "<div>\n",
       "<style scoped>\n",
       "    .dataframe tbody tr th:only-of-type {\n",
       "        vertical-align: middle;\n",
       "    }\n",
       "\n",
       "    .dataframe tbody tr th {\n",
       "        vertical-align: top;\n",
       "    }\n",
       "\n",
       "    .dataframe thead th {\n",
       "        text-align: right;\n",
       "    }\n",
       "</style>\n",
       "<table border=\"1\" class=\"dataframe\">\n",
       "  <thead>\n",
       "    <tr style=\"text-align: right;\">\n",
       "      <th></th>\n",
       "      <th>attitude1_01</th>\n",
       "      <th>attitude1_02</th>\n",
       "      <th>attitude1_03</th>\n",
       "      <th>attitude1_04</th>\n",
       "      <th>intent1_01</th>\n",
       "      <th>intent1_02</th>\n",
       "      <th>intent1_03</th>\n",
       "      <th>intent1_04</th>\n",
       "      <th>peruse01</th>\n",
       "      <th>peruse02</th>\n",
       "      <th>peruse03</th>\n",
       "      <th>peruse04</th>\n",
       "      <th>satis01</th>\n",
       "      <th>satis02</th>\n",
       "      <th>satis03</th>\n",
       "      <th>satis04</th>\n",
       "    </tr>\n",
       "  </thead>\n",
       "  <tbody>\n",
       "    <tr>\n",
       "      <th>0</th>\n",
       "      <td>6</td>\n",
       "      <td>6</td>\n",
       "      <td>6</td>\n",
       "      <td>6</td>\n",
       "      <td>6</td>\n",
       "      <td>6</td>\n",
       "      <td>6</td>\n",
       "      <td>6</td>\n",
       "      <td>6</td>\n",
       "      <td>4</td>\n",
       "      <td>5</td>\n",
       "      <td>5</td>\n",
       "      <td>5</td>\n",
       "      <td>5</td>\n",
       "      <td>5</td>\n",
       "      <td>5</td>\n",
       "    </tr>\n",
       "    <tr>\n",
       "      <th>1</th>\n",
       "      <td>7</td>\n",
       "      <td>7</td>\n",
       "      <td>7</td>\n",
       "      <td>7</td>\n",
       "      <td>7</td>\n",
       "      <td>7</td>\n",
       "      <td>7</td>\n",
       "      <td>7</td>\n",
       "      <td>7</td>\n",
       "      <td>7</td>\n",
       "      <td>7</td>\n",
       "      <td>7</td>\n",
       "      <td>7</td>\n",
       "      <td>6</td>\n",
       "      <td>6</td>\n",
       "      <td>6</td>\n",
       "    </tr>\n",
       "    <tr>\n",
       "      <th>2</th>\n",
       "      <td>6</td>\n",
       "      <td>6</td>\n",
       "      <td>6</td>\n",
       "      <td>6</td>\n",
       "      <td>7</td>\n",
       "      <td>7</td>\n",
       "      <td>7</td>\n",
       "      <td>7</td>\n",
       "      <td>6</td>\n",
       "      <td>5</td>\n",
       "      <td>5</td>\n",
       "      <td>5</td>\n",
       "      <td>5</td>\n",
       "      <td>5</td>\n",
       "      <td>5</td>\n",
       "      <td>5</td>\n",
       "    </tr>\n",
       "    <tr>\n",
       "      <th>3</th>\n",
       "      <td>7</td>\n",
       "      <td>7</td>\n",
       "      <td>7</td>\n",
       "      <td>7</td>\n",
       "      <td>6</td>\n",
       "      <td>6</td>\n",
       "      <td>7</td>\n",
       "      <td>6</td>\n",
       "      <td>5</td>\n",
       "      <td>5</td>\n",
       "      <td>5</td>\n",
       "      <td>5</td>\n",
       "      <td>7</td>\n",
       "      <td>6</td>\n",
       "      <td>7</td>\n",
       "      <td>6</td>\n",
       "    </tr>\n",
       "    <tr>\n",
       "      <th>4</th>\n",
       "      <td>7</td>\n",
       "      <td>7</td>\n",
       "      <td>6</td>\n",
       "      <td>6</td>\n",
       "      <td>7</td>\n",
       "      <td>7</td>\n",
       "      <td>7</td>\n",
       "      <td>6</td>\n",
       "      <td>6</td>\n",
       "      <td>6</td>\n",
       "      <td>7</td>\n",
       "      <td>7</td>\n",
       "      <td>6</td>\n",
       "      <td>6</td>\n",
       "      <td>6</td>\n",
       "      <td>6</td>\n",
       "    </tr>\n",
       "  </tbody>\n",
       "</table>\n",
       "</div>"
      ],
      "text/plain": [
       "   attitude1_01  attitude1_02  attitude1_03  attitude1_04  intent1_01  \\\n",
       "0             6             6             6             6           6   \n",
       "1             7             7             7             7           7   \n",
       "2             6             6             6             6           7   \n",
       "3             7             7             7             7           6   \n",
       "4             7             7             6             6           7   \n",
       "\n",
       "   intent1_02  intent1_03  intent1_04  peruse01  peruse02  peruse03  peruse04  \\\n",
       "0           6           6           6         6         4         5         5   \n",
       "1           7           7           7         7         7         7         7   \n",
       "2           7           7           7         6         5         5         5   \n",
       "3           6           7           6         5         5         5         5   \n",
       "4           7           7           6         6         6         7         7   \n",
       "\n",
       "   satis01  satis02  satis03  satis04  \n",
       "0        5        5        5        5  \n",
       "1        7        6        6        6  \n",
       "2        5        5        5        5  \n",
       "3        7        6        7        6  \n",
       "4        6        6        6        6  "
      ]
     },
     "execution_count": 4,
     "metadata": {},
     "output_type": "execute_result"
    }
   ],
   "source": [
    "# Set working directory and load the dataset\n",
    "os.chdir(\"C:/MySystem/School/Python/GitHubStuff/week9labs/data\")\n",
    "ect_df = pd.read_table(\"ect_data.txt\")\n",
    "\n",
    "# Inspect structure\n",
    "ect_df.info()\n",
    "ect_df.head()\n"
   ]
  },
  {
   "cell_type": "markdown",
   "id": "d5096b91-e917-43a0-bb2a-9a2f44e0358e",
   "metadata": {},
   "source": [
    "## Step 1 – Variable Selection\n",
    "\n",
    "Our response variable for the regression model is `intent1_01`, which reflects intention to adopt the system.  \n",
    "To avoid multicollinearity and conceptual redundancy, we explicitly exclude `intent1_02`, `intent1_03`, and `intent1_04`.    \n",
    "\n",
    "From the remaining numeric columns, we select five independent variables to serve as candidate predictors.     \n",
    "These selections are provisional and will be validated in later stages through assumption testing and interpretability checks.    \n",
    "\n"
   ]
  },
  {
   "cell_type": "code",
   "execution_count": 14,
   "id": "0f9267ec-5f31-416e-9f2e-4ac38de39cb2",
   "metadata": {},
   "outputs": [
    {
     "name": "stdout",
     "output_type": "stream",
     "text": [
      "All numeric columns:\n",
      " Index(['attitude1_01', 'attitude1_02', 'attitude1_03', 'attitude1_04',\n",
      "       'intent1_01', 'intent1_02', 'intent1_03', 'intent1_04', 'peruse01',\n",
      "       'peruse02', 'peruse03', 'peruse04', 'satis01', 'satis02', 'satis03',\n",
      "       'satis04'],\n",
      "      dtype='object')\n",
      "Selected features:\n",
      " ['attitude1_01', 'attitude1_02', 'attitude1_03', 'attitude1_04', 'peruse01']\n"
     ]
    }
   ],
   "source": [
    "# Identify all numeric columns\n",
    "numeric_cols = ect_df.select_dtypes(include='number').columns\n",
    "print(\"All numeric columns:\\n\", numeric_cols)\n",
    "\n",
    "# Drop the dependent and disallowed columns\n",
    "excluded = ['intent1_01', 'intent1_02', 'intent1_03', 'intent1_04']\n",
    "features = numeric_cols.drop(excluded)\n",
    "\n",
    "# Select first five independent variables\n",
    "selected_features = features[:5].tolist()\n",
    "print(\"Selected features:\\n\", selected_features)\n"
   ]
  },
  {
   "cell_type": "markdown",
   "id": "802218a8-3aaf-4199-bdaf-e52974c09094",
   "metadata": {},
   "source": [
    "## Step 2 – Fit Regression Model\n",
    "\n",
    "We now fit a multiple linear regression model using the Ordinary Least Squares (OLS) method from the `statsmodels` library.   \n",
    "The formula is constructed dynamically using the dependent variable `intent1_01` and the five selected independent variables.  \n",
    "\n",
    "The model summary will help us examine overall model performance, the statistical significance of each predictor, and initial diagnostics.  "
   ]
  },
  {
   "cell_type": "code",
   "execution_count": 15,
   "id": "8b31f2e3-cc82-4f19-b2e9-5a22504d7e73",
   "metadata": {},
   "outputs": [
    {
     "name": "stdout",
     "output_type": "stream",
     "text": [
      "                            OLS Regression Results                            \n",
      "==============================================================================\n",
      "Dep. Variable:             intent1_01   R-squared:                       0.509\n",
      "Model:                            OLS   Adj. R-squared:                  0.496\n",
      "Method:                 Least Squares   F-statistic:                     40.44\n",
      "Date:                Tue, 29 Apr 2025   Prob (F-statistic):           2.04e-28\n",
      "Time:                        19:05:17   Log-Likelihood:                -217.16\n",
      "No. Observations:                 201   AIC:                             446.3\n",
      "Df Residuals:                     195   BIC:                             466.1\n",
      "Df Model:                           5                                         \n",
      "Covariance Type:            nonrobust                                         \n",
      "================================================================================\n",
      "                   coef    std err          t      P>|t|      [0.025      0.975]\n",
      "--------------------------------------------------------------------------------\n",
      "Intercept        1.1614      0.365      3.182      0.002       0.441       1.881\n",
      "attitude1_01     0.3890      0.107      3.637      0.000       0.178       0.600\n",
      "attitude1_02     0.1811      0.078      2.325      0.021       0.028       0.335\n",
      "attitude1_03    -0.0386      0.101     -0.380      0.704      -0.239       0.162\n",
      "attitude1_04     0.0559      0.101      0.553      0.581      -0.144       0.255\n",
      "peruse01         0.2489      0.058      4.258      0.000       0.134       0.364\n",
      "==============================================================================\n",
      "Omnibus:                       67.714   Durbin-Watson:                   1.904\n",
      "Prob(Omnibus):                  0.000   Jarque-Bera (JB):              312.748\n",
      "Skew:                          -1.223   Prob(JB):                     1.22e-68\n",
      "Kurtosis:                       8.600   Cond. No.                         96.8\n",
      "==============================================================================\n",
      "\n",
      "Notes:\n",
      "[1] Standard Errors assume that the covariance matrix of the errors is correctly specified.\n"
     ]
    }
   ],
   "source": [
    "# Define the regression formula and fit the model\n",
    "formula = 'intent1_01 ~ ' + ' + '.join(selected_features)\n",
    "model = smf.ols(formula=formula, data=ect_df).fit()\n",
    "\n",
    "# Display the model summary\n",
    "print(model.summary())\n"
   ]
  },
  {
   "cell_type": "markdown",
   "id": "65d7bc6a-90e9-4464-b13a-e943e6399edd",
   "metadata": {},
   "source": [
    "## Step 3 – Results and Interpretation\n",
    "\n",
    "The regression output shows that the model explains approximately 51% of the variance in    \n",
    "intention to adopt the system (`intent1_01`), as indicated by the R-squared value.    \n",
    "\n",
    "Three predictors are statistically significant at the 0.05 level:\n",
    "- `attitude1_01` – Positive coefficient, p < 0.001\n",
    "- `attitude1_02` – Positive coefficient, p = 0.021\n",
    "- `peruse01` – Positive coefficient, p < 0.001\n",
    "\n",
    "These variables appear to be meaningful drivers of system adoption intent, suggesting that  \n",
    "favorable attitudes and early system engagement correlate with stronger behavioral intent.  \n",
    "\n",
    "The remaining predictors (`attitude1_03`, `attitude1_04`) were not statistically significant   \n",
    "and may not add predictive value in this model.  "
   ]
  },
  {
   "cell_type": "code",
   "execution_count": 7,
   "id": "fb41c668-38b9-4896-94a2-c5b239d00da5",
   "metadata": {},
   "outputs": [
    {
     "data": {
      "text/plain": [
       "Intercept       1.161381\n",
       "attitude1_01    0.388972\n",
       "attitude1_02    0.181131\n",
       "attitude1_03   -0.038562\n",
       "attitude1_04    0.055939\n",
       "peruse01        0.248862\n",
       "dtype: float64"
      ]
     },
     "execution_count": 7,
     "metadata": {},
     "output_type": "execute_result"
    }
   ],
   "source": [
    "# Display estimated coefficients\n",
    "model.params"
   ]
  },
  {
   "cell_type": "markdown",
   "id": "ad98426f-53fd-4f69-8edf-4f3281e94295",
   "metadata": {},
   "source": [
    "\n",
    "## Step 4 – Regression Assumptions\n",
    "\n",
    "To ensure our model meets the conditions required for valid inference,  \n",
    "we examine the residuals for linearity, homoscedasticity, and normality.    \n",
    "\n",
    "- **Linearity & Homoscedasticity** will be evaluated using a residuals vs fitted values plot.\n",
    "- **Normality** will be assessed visually with a QQ plot and statistically with the Shapiro-Wilk test.\n"
   ]
  },
  {
   "cell_type": "code",
   "execution_count": 8,
   "id": "55581dd5-ad3e-41c1-8264-1131d775cd3c",
   "metadata": {},
   "outputs": [
    {
     "data": {
      "image/png": "[encoded data removed]",
      "text/plain": [
       "<Figure size 800x500 with 1 Axes>"
      ]
     },
     "metadata": {},
     "output_type": "display_data"
    }
   ],
   "source": [
    "# Linearity & Homoscedasticity\n",
    "plt.figure(figsize=(8, 5))\n",
    "plt.scatter(model.fittedvalues, model.resid, alpha=0.7)\n",
    "plt.axhline(0, color='red', linestyle='--')\n",
    "plt.xlabel(\"Fitted Values\")\n",
    "plt.ylabel(\"Residuals\")\n",
    "plt.title(\"Residuals vs Fitted\")\n",
    "plt.tight_layout()\n",
    "plt.show()"
   ]
  },
  {
   "cell_type": "markdown",
   "id": "2f573d1b-458e-4fd6-87d0-bbaaae2da0fe",
   "metadata": {},
   "source": [
    "### Normality of Residuals\n",
    "\n",
    "To test the assumption of normally distributed residuals, we use two methods:\n",
    "\n",
    "- A **QQ plot** to visually assess deviation from normality.\n",
    "- The **Shapiro-Wilk test** to formally evaluate the null hypothesis that the residuals are normally distributed.\n",
    "\n"
   ]
  },
  {
   "cell_type": "code",
   "execution_count": 16,
   "id": "0c47dbba-43e7-430c-b048-a89430c093df",
   "metadata": {},
   "outputs": [
    {
     "data": {
      "image/png": "[encoded data removed]",
      "text/plain": [
       "<Figure size 640x480 with 1 Axes>"
      ]
     },
     "metadata": {},
     "output_type": "display_data"
    },
    {
     "name": "stdout",
     "output_type": "stream",
     "text": [
      "Shapiro-Wilk test result: ShapiroResult(statistic=np.float64(0.9021842129523219), pvalue=np.float64(3.2247423721491347e-10))\n"
     ]
    }
   ],
   "source": [
    "\n",
    "# QQ plot\n",
    "sm.qqplot(model.resid, line='s')\n",
    "plt.title(\"QQ Plot of Residuals\")\n",
    "plt.tight_layout()\n",
    "plt.show()\n",
    "\n",
    "# Shapiro-Wilk test\n",
    "shapiro_test = stats.shapiro(model.resid)\n",
    "print(\"Shapiro-Wilk test result:\", shapiro_test)\n",
    "\n"
   ]
  },
  {
   "cell_type": "markdown",
   "id": "ea04f249-f9bd-4ffe-9dc6-4e784fddc428",
   "metadata": {},
   "source": [
    "### Multicollinearity\n",
    "\n",
    "To evaluate potential multicollinearity among the independent variables, we compute Variance Inflation Factors (VIF). High VIF values (generally > 5)  \n",
    "may indicate redundancy or high correlation between predictors, which can distort coefficient estimates and reduce interpretability.\n"
   ]
  },
  {
   "cell_type": "code",
   "execution_count": 10,
   "id": "6601b444-bb80-4eab-98a3-22a3975aadfc",
   "metadata": {},
   "outputs": [
    {
     "name": "stdout",
     "output_type": "stream",
     "text": [
      "       Variable        VIF\n",
      "0         const  51.136257\n",
      "1  attitude1_01   3.826053\n",
      "2  attitude1_02   2.671601\n",
      "3  attitude1_03   4.508346\n",
      "4  attitude1_04   3.976350\n",
      "5      peruse01   1.510656\n"
     ]
    }
   ],
   "source": [
    "# Compute Variance Inflation Factors (VIF)\n",
    "X = sm.add_constant(ect_df[selected_features])\n",
    "vif_data = pd.DataFrame()\n",
    "vif_data[\"Variable\"] = X.columns\n",
    "vif_data[\"VIF\"] = [variance_inflation_factor(X.values, i) for i in range(X.shape[1])]\n",
    "print(vif_data)\n"
   ]
  },
  {
   "cell_type": "markdown",
   "id": "a656e982-8db8-4c62-a48c-ea7f154fd335",
   "metadata": {},
   "source": [
    "### Independence of Residuals\n",
    "\n",
    "To evaluate whether residuals are independent from one another (no autocorrelation), we use the **Durbin-Watson statistic**.  \n",
    "Values near 2 suggest independence. Values significantly below 1 or above 3 indicate potential autocorrelation, which can bias statistical inference.  \n"
   ]
  },
  {
   "cell_type": "code",
   "execution_count": 11,
   "id": "c31b6d3f-e7bf-42c3-bf5e-adfab2a2f8d2",
   "metadata": {},
   "outputs": [
    {
     "name": "stdout",
     "output_type": "stream",
     "text": [
      "Durbin-Watson statistic: 1.9039088170929683\n"
     ]
    }
   ],
   "source": [
    "# Durbin-Watson test for independence of residuals\n",
    "dw_stat = sm.stats.stattools.durbin_watson(model.resid)\n",
    "print(\"Durbin-Watson statistic:\", dw_stat)"
   ]
  },
  {
   "cell_type": "markdown",
   "id": "992b80dd-04cc-4599-b002-8a4dd61389de",
   "metadata": {},
   "source": [
    "## Summary\n",
    "\n",
    "Based on the regression analysis, three predictors emerged as statistically significant: `attitude1_01`, `attitude1_02`, and `peruse01`.  \n",
    "The model demonstrates moderate explanatory power, with an R² of approximately 0.51.  \n",
    "\n",
    "### Final Regression Equation\n",
    "\n",
    "*intent1_01 = 1.1614 + 0.3899 × attitude1_01 + 0.1811 × attitude1_02 + 0.2489 × peruse01*\n",
    "\n",
    "Variables `attitude1_03` and `attitude1_04` were not significant and may not meaningfully contribute to the prediction of adoption intent.  \n",
    "\n",
    "---\n",
    "\n",
    "### Interpretation:\n",
    "\n",
    "- Stronger attitudes toward the system (`attitude1_01`, `attitude1_02`) are positively associated with intent to adopt.\n",
    "- Early usage experience (`peruse01`) also significantly influences adoption likelihood.\n",
    "- These insights can guide strategies that emphasize positive user perception and early exposure to boost adoption intent.\n",
    "  \n",
    "> *The “try-before-you-buy” effect — familiarity breeds trust.*\n",
    "\n",
    "  "
   ]
  },
  {
   "cell_type": "markdown",
   "id": "14625b1a-f5dd-48da-9df9-fef06cacc713",
   "metadata": {},
   "source": [
    "## References\n",
    "\n",
    "- BGEN632 Course Materials – Week 9 (Instructor: Olivia Newton)\n",
    "- Week 9 Tutorial Notebook: 09_Tutorial.ipynb\n",
    "- Gemini AI (Google) – Guidance on variable selection and diagnostic interpretation\n",
    "\n",
    "---\n",
    "\n",
    "## Visual Reference\n",
    "\n",
    "### Statistical Diagnostic Checks in Python  \n",
    "<img src=\"assets/a1.png\" alt=\"Statistical Diagnostic Checks in Python\" width=\"600px\">\n",
    "\n",
    "---\n",
    "\n",
    "### Regression Assumption Setup Logic  \n",
    "<img src=\"assets/a2.png\" alt=\"Regression Assumption Setup Logic\" width=\"600px\">\n",
    "\n",
    "---\n",
    "\n",
    "### Variable Selection Criteria for Regression  \n",
    "<img src=\"assets/a3.png\" alt=\"Variable Selection Criteria for Regression\" width=\"600px\">\n",
    "\n",
    "---\n",
    "\n",
    "### Overview of Variable Selection Methods  \n",
    "<img src=\"assets/a4.png\" alt=\"Overview of Variable Selection Methods\" width=\"600px\">\n",
    "\n"
   ]
  },
  {
   "cell_type": "markdown",
   "id": "f3caf132-f7e1-4098-a286-95c7b0cbf58d",
   "metadata": {},
   "source": [
    "## &nbsp;&nbsp;&nbsp;&nbsp; End of Independent Lab Submission\n"
   ]
  }
 ],
 "metadata": {
  "kernelspec": {
   "display_name": "Python 3 (ipykernel)",
   "language": "python",
   "name": "python3"
  },
  "language_info": {
   "codemirror_mode": {
    "name": "ipython",
    "version": 3
   },
   "file_extension": ".py",
   "mimetype": "text/x-python",
   "name": "python",
   "nbconvert_exporter": "python",
   "pygments_lexer": "ipython3",
   "version": "3.13.2"
  }
 },
 "nbformat": 4,
 "nbformat_minor": 5
}
